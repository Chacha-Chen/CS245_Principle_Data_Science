{
 "cells": [
  {
   "cell_type": "markdown",
   "metadata": {},
   "source": [
    "After finding out the optimal hyperparameter K for a KNN classifier, we are going to try different distance metrics (recall that the default one uses Euclidean distance) and see whether other matrics work better or not. \n",
    "\n",
    "We are going to try 4 distance metrics: Manhattan distance, Euclidean distance (for completeness reason although we tried it in question 2), Chebyshev distance, and cosine distance.\n",
    "\n",
    "Again, let's begin with loading the necessary packages."
   ]
  },
  {
   "cell_type": "code",
   "execution_count": 5,
   "metadata": {},
   "outputs": [],
   "source": [
    "import numpy as np\n",
    "from sklearn.model_selection import train_test_split\n",
    "from sklearn.neighbors import KNeighborsClassifier\n",
    "from sklearn.model_selection import cross_val_score"
   ]
  },
  {
   "cell_type": "markdown",
   "metadata": {},
   "source": [
    "Load the data and split them into training set and test set"
   ]
  },
  {
   "cell_type": "code",
   "execution_count": 2,
   "metadata": {},
   "outputs": [],
   "source": [
    "features_file = 'AwA2-features/Animals_with_Attributes2/Features/ResNet101/AwA2-features.txt'\n",
    "labels_file = 'AwA2-features/Animals_with_Attributes2/Features/ResNet101/AwA2-labels.txt'\n",
    "\n",
    "# There is in total 37322 images of 50 classes. Each image is represented as a 2048 dimensional feature\n",
    "features = np.loadtxt(features_file) # shape (37322, 2048)\n",
    "labels = np.loadtxt(labels_file) # shape (37322, )\n",
    "\n",
    "# Split each and all classes into training set (60%) and test set (40%)\n",
    "# set random_state to an int for reproducibility\n",
    "X_train, X_test, Y_train, Y_test = train_test_split(\n",
    "    features, labels, train_size=0.6, test_size=0.4, random_state=0, stratify=labels)"
   ]
  },
  {
   "cell_type": "markdown",
   "metadata": {},
   "source": [
    "1. Manhattan Distance, K = 7"
   ]
  },
  {
   "cell_type": "code",
   "execution_count": 7,
   "metadata": {},
   "outputs": [
    {
     "name": "stdout",
     "output_type": "stream",
     "text": [
      "Manhattan Distance Metric, K=7:\n",
      "Accuracy = 0.8859937035300423\n"
     ]
    }
   ],
   "source": [
    "clf = KNeighborsClassifier(n_neighbors=7, p=1, metric='minkowski')\n",
    "clf.fit(X_train, Y_train)\n",
    "accuracy = clf.score(X_test, Y_test)\n",
    "print('Manhattan Distance Metric, K=7:\\nAccuracy = ' + str(accuracy))"
   ]
  },
  {
   "cell_type": "markdown",
   "metadata": {},
   "source": [
    "2. Euclidean Distance, K=7"
   ]
  },
  {
   "cell_type": "code",
   "execution_count": 5,
   "metadata": {},
   "outputs": [
    {
     "name": "stdout",
     "output_type": "stream",
     "text": [
      "Euclidean Distance Metric, K=7:\n",
      "Accuracy = 0.894500636345368\n"
     ]
    }
   ],
   "source": [
    "clf = KNeighborsClassifier(n_neighbors=7, p=2, metric='minkowski')\n",
    "clf.fit(X_train, Y_train)\n",
    "accuracy = clf.score(X_test, Y_test)\n",
    "print('Euclidean Distance Metric, K=7:\\nAccuracy = ' + str(accuracy))"
   ]
  },
  {
   "cell_type": "markdown",
   "metadata": {},
   "source": [
    "3. Chebyshev Distance, K=7"
   ]
  },
  {
   "cell_type": "code",
   "execution_count": 6,
   "metadata": {},
   "outputs": [
    {
     "name": "stdout",
     "output_type": "stream",
     "text": [
      "Chevbyshev Distance Metric, K=7:\n",
      "Accuracy = 0.7830397213477125\n"
     ]
    }
   ],
   "source": [
    "clf = KNeighborsClassifier(n_neighbors=7, metric='chebyshev')\n",
    "clf.fit(X_train, Y_train)\n",
    "accuracy = clf.score(X_test, Y_test)\n",
    "print('Chevbyshev Distance Metric, K=7:\\nAccuracy = ' + str(accuracy))"
   ]
  },
  {
   "cell_type": "markdown",
   "metadata": {},
   "source": [
    "4. Cosine Distance, K=7.\n",
    "\n",
    "Note that scikit.learn does not provide a cosine similarity metric in its metrics list, so we need to define it ourselves and use the user-defined metric option.\n",
    "\n",
    "As stated in sklearn website, this user-defined metric has to meet the requirement: \"...Here func is a function which takes two one-dimensional numpy arrays, and returns a distance. Note that in order to be used within the BallTree, the distance must be a true metric...\".\n",
    "\n",
    "Since the original form of cosine similarity cos_sim(p1, p2) = p1^Tp2 / ||p1|| ||p2|| is not a valid distance metric, we convert it to d(p1, p2) = 1 - (1+cos_sim(p1,p2))/2. Then we use this new distance to train a kNN classifier.\n",
    "\n",
    "Is this new formula d(p1, p2) = 1 - (1+cos_sim(p1,p2))/2 a valid metric?\n",
    "    1. It satisfies the 'non-negativity' property;\n",
    "    2. It satisfies the 'identity of indiscernibles' property;\n",
    "    3. It satisfies the 'symmetry' property;\n",
    "    4. TODO: prove whether it satisfies the 'triangle inequality' property or not!!!"
   ]
  },
  {
   "cell_type": "code",
   "execution_count": 3,
   "metadata": {},
   "outputs": [
    {
     "name": "stdout",
     "output_type": "stream",
     "text": [
      "(Modified) Cosine Distance Metric, K=7:\n",
      "Accuracy = 0.90635675530846\n"
     ]
    }
   ],
   "source": [
    "# Self-defined distance measure\n",
    "# Use consine similarity to measure the distance b/t two vectors p1 and p2\n",
    "def cosine(p1, p2):\n",
    "    '''\n",
    "    params:\n",
    "    p1: vector for point 1, shape = (d, )\n",
    "    p2: vector for point 2, shape = (d, )\n",
    "    \n",
    "    return:\n",
    "    a cosine similary b/t p1 and p2\n",
    "    '''\n",
    "    assert p1.shape[0] == p2.shape[0]\n",
    "    cos = np.dot(p1, p2) / (np.sqrt(np.sum(p1**2)) * np.sqrt(np.sum(p2**2)))\n",
    "    return 1 - (1 + cos) / 2\n",
    "\n",
    "clf = KNeighborsClassifier(n_neighbors=7, metric=cosine)\n",
    "clf.fit(X_train, Y_train)\n",
    "accuracy = clf.score(X_test, Y_test)\n",
    "print('(Modified) Cosine Distance Metric, K=7:\\nAccuracy = ' + str(accuracy))"
   ]
  }
 ],
 "metadata": {
  "kernelspec": {
   "display_name": "Python 3",
   "language": "python",
   "name": "python3"
  },
  "language_info": {
   "codemirror_mode": {
    "name": "ipython",
    "version": 3
   },
   "file_extension": ".py",
   "mimetype": "text/x-python",
   "name": "python",
   "nbconvert_exporter": "python",
   "pygments_lexer": "ipython3",
   "version": "3.6.7"
  }
 },
 "nbformat": 4,
 "nbformat_minor": 2
}
