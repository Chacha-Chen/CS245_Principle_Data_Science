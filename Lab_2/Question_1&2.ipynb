{
 "cells": [
  {
   "cell_type": "markdown",
   "metadata": {},
   "source": [
    "Question 1 and 2: Train a KNN classifier with the pre-extracted features"
   ]
  },
  {
   "cell_type": "markdown",
   "metadata": {},
   "source": [
    "First, we import the libraries and packages we need:"
   ]
  },
  {
   "cell_type": "code",
   "execution_count": 1,
   "metadata": {},
   "outputs": [],
   "source": [
    "import numpy as np\n",
    "from sklearn.model_selection import train_test_split\n",
    "from sklearn.neighbors import KNeighborsClassifier\n",
    "from sklearn.model_selection import cross_val_score"
   ]
  },
  {
   "cell_type": "markdown",
   "metadata": {},
   "source": [
    "Load the data and split them into training set and test set"
   ]
  },
  {
   "cell_type": "code",
   "execution_count": 2,
   "metadata": {},
   "outputs": [],
   "source": [
    "features_file = 'AwA2-features/Animals_with_Attributes2/Features/ResNet101/AwA2-features.txt'\n",
    "labels_file = 'AwA2-features/Animals_with_Attributes2/Features/ResNet101/AwA2-labels.txt'\n",
    "\n",
    "# There is in total 37322 images of 50 classes. Each image is represented as a 2048 dimensional feature\n",
    "features = np.loadtxt(features_file) # shape (37322, 2048)\n",
    "labels = np.loadtxt(labels_file) # shape (37322, )\n",
    "\n",
    "# Split each and all classes into training set (60%) and test set (40%)\n",
    "# set random_state to an int for reproducibility\n",
    "X_train, X_test, Y_train, Y_test = train_test_split(\n",
    "    features, labels, train_size=0.6, test_size=0.4, random_state=0, stratify=labels)\n"
   ]
  },
  {
   "cell_type": "markdown",
   "metadata": {},
   "source": [
    "Build a KNN classfier with the training set using default Euclidean distance metric.\n",
    "We also use a 5-fold cross validation within the training set to determine the optimal choice for hyperparameter K."
   ]
  },
  {
   "cell_type": "code",
   "execution_count": 3,
   "metadata": {},
   "outputs": [
    {
     "name": "stdout",
     "output_type": "stream",
     "text": [
      "\n",
      "K = 1: \n",
      "Accuracy: 0.874686 (+/- 0.009534)\n",
      "\n",
      "K = 2: \n",
      "Accuracy: 0.860709 (+/- 0.010099)\n",
      "\n",
      "K = 3: \n",
      "Accuracy: 0.883756 (+/- 0.006013)\n",
      "\n",
      "K = 4: \n",
      "Accuracy: 0.882278 (+/- 0.006234)\n",
      "\n",
      "K = 5: \n",
      "Accuracy: 0.886962 (+/- 0.007648)\n",
      "\n",
      "K = 6: \n",
      "Accuracy: 0.885088 (+/- 0.008137)\n",
      "\n",
      "K = 7: \n",
      "Accuracy: 0.887903 (+/- 0.007351)\n",
      "\n",
      "K = 8: \n",
      "Accuracy: 0.885492 (+/- 0.007048)\n",
      "\n",
      "K = 9: \n",
      "Accuracy: 0.887012 (+/- 0.008589)\n",
      "\n",
      "K = 10: \n",
      "Accuracy: 0.885358 (+/- 0.006760)\n"
     ]
    }
   ],
   "source": [
    "# Search for optimal K in [1, 2, ..., 10] due to computational limitation.\n",
    "for K in range(1, 11):\n",
    "    clf = KNeighborsClassifier(n_neighbors=K)\n",
    "    scores = cross_val_score(clf, X_train, Y_train, cv=5)\n",
    "    print(\"\\nK = %d: \\nAccuracy: %f (+/- %f)\" % (K, np.mean(scores), np.std(scores) * 2))"
   ]
  },
  {
   "cell_type": "markdown",
   "metadata": {},
   "source": [
    "Based on the results, we can see that K=7 is a good hyperparameter choice, so let's use that and test it finally on the test set and report the accuracy."
   ]
  },
  {
   "cell_type": "code",
   "execution_count": 4,
   "metadata": {},
   "outputs": [
    {
     "name": "stdout",
     "output_type": "stream",
     "text": [
      "Accuracy = 0.894501\n"
     ]
    }
   ],
   "source": [
    "clf = KNeighborsClassifier(n_neighbors=7)\n",
    "clf.fit(X_train, Y_train)\n",
    "accuracy = clf.score(X_test, Y_test)\n",
    "print('Accuracy = %f' % (accuracy))"
   ]
  },
  {
   "cell_type": "code",
   "execution_count": null,
   "metadata": {},
   "outputs": [],
   "source": []
  }
 ],
 "metadata": {
  "kernelspec": {
   "display_name": "Python 3",
   "language": "python",
   "name": "python3"
  },
  "language_info": {
   "codemirror_mode": {
    "name": "ipython",
    "version": 3
   },
   "file_extension": ".py",
   "mimetype": "text/x-python",
   "name": "python",
   "nbconvert_exporter": "python",
   "pygments_lexer": "ipython3",
   "version": "3.6.7"
  }
 },
 "nbformat": 4,
 "nbformat_minor": 2
}
