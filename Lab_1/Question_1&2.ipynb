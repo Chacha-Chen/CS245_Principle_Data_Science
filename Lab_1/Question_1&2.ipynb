{
 "cells": [
  {
   "cell_type": "markdown",
   "metadata": {},
   "source": [
    "Question 1 and 2: Train a linear SVM withthe pre-extracted feature"
   ]
  },
  {
   "cell_type": "markdown",
   "metadata": {},
   "source": [
    "First, we import the libraries and packages we need"
   ]
  },
  {
   "cell_type": "code",
   "execution_count": 1,
   "metadata": {},
   "outputs": [],
   "source": [
    "import numpy as np\n",
    "from sklearn.model_selection import train_test_split\n",
    "from sklearn.svm import SVC\n",
    "from sklearn.model_selection import cross_val_score"
   ]
  },
  {
   "cell_type": "markdown",
   "metadata": {},
   "source": [
    "Load the data and split them into training set and test set"
   ]
  },
  {
   "cell_type": "code",
   "execution_count": 3,
   "metadata": {},
   "outputs": [],
   "source": [
    "features_file = 'AwA2-features/Animals_with_Attributes2/Features/ResNet101/AwA2-features.txt'\n",
    "labels_file = 'AwA2-features/Animals_with_Attributes2/Features/ResNet101/AwA2-labels.txt'\n",
    "\n",
    "# There is in total 37322 images of 50 classes. Each image is represented as a 2048 dimensional feature\n",
    "features = np.loadtxt(features_file) # shape (37322, 2048)\n",
    "labels = np.loadtxt(labels_file) # shape (37322, )\n",
    "\n",
    "# Split each and all classes into training set (60%) and test set (40%)\n",
    "# set random_state to an int for reproducibility\n",
    "X_train, X_test, Y_train, Y_test = train_test_split(\n",
    "    features, labels, train_size=0.6, test_size=0.4, random_state=0, stratify=labels)\n"
   ]
  },
  {
   "cell_type": "markdown",
   "metadata": {},
   "source": [
    "Train a linear SVM within the training set using a 5-fold cross validation"
   ]
  },
  {
   "cell_type": "code",
   "execution_count": 3,
   "metadata": {},
   "outputs": [
    {
     "name": "stdout",
     "output_type": "stream",
     "text": [
      "\n",
      "C = 0.000010: \n",
      "Accuracy: 0.6854 (+/- 0.0030)\n",
      "\n",
      "C = 0.000100: \n",
      "Accuracy: 0.9055 (+/- 0.0063)\n",
      "\n",
      "C = 0.001000: \n",
      "Accuracy: 0.9304 (+/- 0.0062)\n",
      "\n",
      "C = 0.010000: \n",
      "Accuracy: 0.9280 (+/- 0.0058)\n",
      "\n",
      "C = 0.100000: \n",
      "Accuracy: 0.9262 (+/- 0.0077)\n",
      "\n",
      "C = 1.000000: \n",
      "Accuracy: 0.9262 (+/- 0.0076)\n",
      "\n",
      "C = 10.000000: \n",
      "Accuracy: 0.9240 (+/- 0.0078)\n",
      "\n",
      "C = 100.000000: \n",
      "Accuracy: 0.9233 (+/- 0.0085)\n",
      "\n",
      "C = 1000.000000: \n",
      "Accuracy: 0.9233 (+/- 0.0085)\n"
     ]
    }
   ],
   "source": [
    "for c in [0.00001, 0.0001, .001, .01, .1, 1., 10., 100., 1000.]:\n",
    "    clf = SVC(kernel='linear', C=c)\n",
    "    # Perform 5-fold validation on the training set\n",
    "    scores = cross_val_score(clf, X_train, Y_train, cv=5)\n",
    "    print(\"\\nC = %f: \\nAccuracy: %0.4f (+/- %0.4f)\" % (c, np.mean(scores), np.std(scores) * 2))"
   ]
  },
  {
   "cell_type": "markdown",
   "metadata": {},
   "source": [
    "Report the final accuracy of C=0.001 on the test set"
   ]
  },
  {
   "cell_type": "code",
   "execution_count": 4,
   "metadata": {},
   "outputs": [
    {
     "name": "stdout",
     "output_type": "stream",
     "text": [
      "Accuracy = 0.9338\n"
     ]
    }
   ],
   "source": [
    "clf = SVC(kernel='linear', C=0.001)\n",
    "clf.fit(X_train, Y_train)\n",
    "accuracy = clf.score(X_test, Y_test)\n",
    "print('Accuracy = %0.4f' % (accuracy))"
   ]
  },
  {
   "cell_type": "code",
   "execution_count": null,
   "metadata": {},
   "outputs": [],
   "source": []
  }
 ],
 "metadata": {
  "kernelspec": {
   "display_name": "Python 3",
   "language": "python",
   "name": "python3"
  },
  "language_info": {
   "codemirror_mode": {
    "name": "ipython",
    "version": 3
   },
   "file_extension": ".py",
   "mimetype": "text/x-python",
   "name": "python",
   "nbconvert_exporter": "python",
   "pygments_lexer": "ipython3",
   "version": "3.6.7"
  }
 },
 "nbformat": 4,
 "nbformat_minor": 2
}
