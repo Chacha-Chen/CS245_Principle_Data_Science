{
 "cells": [
  {
   "cell_type": "markdown",
   "metadata": {},
   "source": [
    "Import necessary packages and load data"
   ]
  },
  {
   "cell_type": "code",
   "execution_count": null,
   "metadata": {},
   "outputs": [],
   "source": [
    "import numpy as np\n",
    "from sklearn.model_selection import train_test_split\n",
    "from sklearn.svm import SVC\n",
    "from sklearn.model_selection import cross_val_score\n",
    "\n",
    "\n",
    "features_file = 'AwA2-features/Animals_with_Attributes2/Features/ResNet101/AwA2-features.txt'\n",
    "labels_file = 'AwA2-features/Animals_with_Attributes2/Features/ResNet101/AwA2-labels.txt'\n",
    "\n",
    "# There is in total 37322 images of 50 classes. Each image is represented as a 2048 dimensional feature\n",
    "features = np.loadtxt(features_file) # shape (37322, 2048)\n",
    "labels = np.loadtxt(labels_file) # shape (37322, )\n",
    "\n",
    "# Split each and all classes into training set (60%) and test set (40%)\n",
    "# set random_state to an int for reproducibility\n",
    "X_train, X_test, Y_train, Y_test = train_test_split(\n",
    "    features, labels, train_size=0.6, test_size=0.4, random_state=0, stratify=labels)"
   ]
  },
  {
   "cell_type": "markdown",
   "metadata": {},
   "source": [
    "Feature Selection\n",
    "A 2048 dimensional (binary) mask (e.g. [0, 0, 1, 0, 1, 1, ..., 0, 0]) is applied to\n",
    "the feature of each image. We want to find out one or several masks such that the \n",
    "resulting features (lower dimension) works well, presumably better than the original\n",
    "2048 dimensional features."
   ]
  },
  {
   "cell_type": "markdown",
   "metadata": {},
   "source": [
    "We use an evolutionary approach. Namely, we initialize a population of masks (say 10,000\n",
    "out of 2^2048 possibilities). Next we train a linear SVM for each of them and evaluate\n",
    "the fitness of each mask with the mean accuracy. Pick the top 10% (1,000) masks and make\n",
    "little changes to it (mutation) to enrich the whole population again back to 10,000, and\n",
    "then iterate."
   ]
  },
  {
   "cell_type": "code",
   "execution_count": null,
   "metadata": {},
   "outputs": [],
   "source": [
    "d = X_train.shape[1] # dimensionality of each image's feature (2048 in this case)\n",
    "iter_num = 5 # number of iteration of evolutions\n",
    "population_num = 100 # number of mask population\n",
    "percentile = 0.1 # top percentile masks will be selected to mutate and generate masks for next iteration\n",
    "c = 0.001 # Hyperparameter for linear SVM. Empirically selected from the previous experiment\n",
    "\n",
    "\n",
    "# Initialize a population of masks\n",
    "mask_population = np.random.randint(2, size=(population_num, d), dtype=bool)\n",
    "\n",
    "# FUrther split training set into training and development set\n",
    "X_train, X_dev, Y_train, Y_dev = train_test_split(\n",
    "    X_train, Y_train, train_size=0.8, test_size=0.2, random_state=0, stratify=Y_train)\n",
    "\n",
    "\n",
    "for it in range(iter_num):\n",
    "    print('\\n' + str(it+1) + 'th round:')\n",
    "    print('mask population shape = ' + str(mask_population.shape) + '\\n')\n",
    "    cnt = 1\n",
    "\n",
    "    # It stores all the masks and their corresponding fitness\n",
    "    mask_fitness_list = []\n",
    "\n",
    "\n",
    "    for mask in mask_population:\n",
    "        # Apply current mask to X_train and X_dev\n",
    "        masked_X_train = []\n",
    "        masked_X_dev = []\n",
    "        for feature in X_train:\n",
    "            masked_X_train.append(feature[mask])\n",
    "        for feature in X_dev:\n",
    "            masked_X_dev.append(feature[mask])\n",
    "        masked_X_train = np.array(masked_X_train)\n",
    "        masked_X_dev = np.array(masked_X_dev)\n",
    "\n",
    "        # Train a linear SVM with masked_X_Train\n",
    "        clf = SVC(kernel='linear', C=c)\n",
    "        clf.fit(masked_X_train, Y_train)\n",
    "        fitness = clf.score(masked_X_dev, Y_dev)\n",
    "\n",
    "        print('Mask ' + str(cnt) + ', # of active component = ' + str(np.sum(mask)) + '\\nMean Accuracy = ' + str(fitness))\n",
    "        cnt += 1\n",
    "\n",
    "        mask_fitness_list.append((mask, fitness))\n",
    "\n",
    "    # Pick the top percentile masks and their fitness score\n",
    "    top_mask_fitness_list = sorted(mask_fitness_list, key=lambda x : x[1])[ : int(percentile * len(mask_fitness_list))]\n",
    "    top_masks = [pair[0] for pair in top_mask_fitness_list]\n",
    "    top_fitness = [pair[1] for pair in top_mask_fitness_list]\n",
    "\n",
    "    print(\"\\nMean performance of top 10 percent masks in this round: %0.2f (+/- %0.2f)\" % (np.mean(top_fitness), np.std(top_fitness) * 2))\n",
    "\n",
    "    # Mutate top masks a little to enrich the mask population back to 10000 again\n",
    "    # For each mask in top_masks, choose 3 entries randomly and generate all 2^3=8 permutation\n",
    "    # on these three entry to get 8 new masks, so we now have 8000 new masks\n",
    "    # Besides, bring in another 2000 compeletely new masks generated randomly to make the whol\n",
    "    # mask pool 10000 again\n",
    "    mask_population = []\n",
    "    for mask in top_masks:\n",
    "        # Randomly pick three indices\n",
    "        i, j, k = np.random.randint(d, size=3)\n",
    "        for i_bool in [True, False]:\n",
    "            for j_bool in [True, False]:\n",
    "                for k_bool in [True, False]:\n",
    "                    mask[i], mask[j], mask[k] = i_bool, j_bool, k_bool\n",
    "                    mask_population.append(np.copy(mask))\n",
    "\n",
    "\n",
    "    # Bring in some completely random masks to constitute the mask population for\n",
    "    # the next iteration/evolution\n",
    "    mask_population = np.array(mask_population)\n",
    "    new_random_masks = np.random.randint(2, size=(population_num - len(mask_population), d), dtype=bool)\n",
    "    mask_population = np.vstack((mask_population, new_random_masks))\n"
   ]
  }
 ],
 "metadata": {
  "kernelspec": {
   "display_name": "Python 3",
   "language": "python",
   "name": "python3"
  },
  "language_info": {
   "codemirror_mode": {
    "name": "ipython",
    "version": 3
   },
   "file_extension": ".py",
   "mimetype": "text/x-python",
   "name": "python",
   "nbconvert_exporter": "python",
   "pygments_lexer": "ipython3",
   "version": "3.6.7"
  }
 },
 "nbformat": 4,
 "nbformat_minor": 2
}
